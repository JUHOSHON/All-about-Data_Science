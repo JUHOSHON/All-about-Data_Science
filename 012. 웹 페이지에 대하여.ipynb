{
 "cells": [
  {
   "cell_type": "markdown",
   "id": "5806ba3e",
   "metadata": {},
   "source": [
    "# 파이썬으로 서버에 요청 보내기"
   ]
  },
  {
   "cell_type": "code",
   "execution_count": 1,
   "id": "4a04b33e",
   "metadata": {},
   "outputs": [],
   "source": [
    "import requests"
   ]
  },
  {
   "cell_type": "code",
   "execution_count": 2,
   "id": "5bdec39e",
   "metadata": {},
   "outputs": [
    {
     "data": {
      "text/plain": [
       "requests.models.Response"
      ]
     },
     "execution_count": 2,
     "metadata": {},
     "output_type": "execute_result"
    }
   ],
   "source": [
    "page = requests.get('https://www.google.com') # 서버에 요청\n",
    "type(page)"
   ]
  },
  {
   "cell_type": "code",
   "execution_count": 4,
   "id": "ceaf03d3",
   "metadata": {},
   "outputs": [
    {
     "data": {
      "text/plain": [
       "'<!doctype html><html itemscope=\"\" itemtype=\"http://schema.org/WebPage\" lang=\"ko\"><head><meta content=\"text/html; charset=UTF-8\" http-equiv=\"Content-Type\"><meta content=\"/images/branding/googleg/1x/googleg_standard_color_128dp.png\" itemprop=\"image\"><title>Google</title><script nonce=\"eRPPk9EFgTDomxxxZOEA7Q==\">(function(){window.google={kEI:\\'D7q7YIq8KIeK0gTWnJHoBA\\',kEXPI:\\'0,772215,1,530320,56873,954,5104,207,4804,925,1391,383,246,5,304,1050,5251,16231,10,1106274,1197766,486,31,328984,51224,16114,17444,1954,9286,17572,4858,1362,9291,3025,17583,4020,978,13226,2056,1793,10622,14527,4520,2775,919,2370,2711,1593,1279,2213,529,149,1103,840,517,1679,4101,4120,2024,1776,520,14670,3227,1990,855,7,12354,5096,7539,337,4929,108,3407,908,2,941,2614,2397,10745,3,346,230,1835,4625,148,5990,7985,4,1528,2304,1236,5226,577,1791,2893,2014,4,11118,7253,2658,4242,519,914,1026,40,616,30,13628,2305,638,7080,3772,4048,2715,665,2145,376,3288,2548,2047,2047,20,3118,6,908,3,3541,1,8710,6000,1814,283,389,2,1,3,517,5992,1260,3597,1897,432,552,4788,2,1394,2806,1715,2,3057,2017,3244,906,2892,2,1904,1043,296,529,2,61,627,905,355,1,1,1096,924,93,316,225,2,1788,114,1160,4109,5,3,55,406,3697,171,903,2,1,1667,909,106,287,1669,2,2,1047,1160,474,1549,500,548,1622,2,2,516,1697,86,204,103,838,90,3,2421,297,264,930,1400,3,829,206,667,2,364,3,285,235,204,3,75,52,752,141,584,783,138,2181,24,362,394,511,672,264,1656,731,177,443,254,467,1074,1320,576,5635425,102,81,43,63,155,5996871,46,2800650,882,444,1,2,80,1,1796,1,9,2,2551,1,748,141,795,563,1,4265,1,1,2,1331,3299,843,2609,155,17,13,72,139,4,2,20,2,169,13,19,46,5,39,96,284,4,4,4,4,4,4,8,4,4,4,24,196,29,2,2,1,2,1,2,2,7,4,1,2,2,2,2,2,2,70,283,376,2,30,45,2,57,1,23955362,2738465,1271809,268,1678,26624,2,208,7,1159,1000,3,467,3\\',kBL:\\'k1Mu\\'};google.sn=\\'webhp\\';google.kHL=\\'ko\\';})();(function(){\\nvar f,h=[];function k(a){for(var b;a&&(!a.getAttribute||!(b=a.getAttribute(\"eid\")));)a=a.parentNode;return b||f}function l(a){for(var b=null;a&&(!a.getAttribute||!(b=a.getAttribute(\"leid\")));)a=a.parentNode;return b}\\nfunction m(a,b,c,d,g){var e=\"\";c||-1!=b.search(\"&ei=\")||(e=\"&ei=\"+k(d),-1==b.search(\"&lei=\")&&(d=l(d))&&(e+=\"&lei=\"+d));d=\"\";!c&&window._cshid&&-1==b.search(\"&cshid=\")&&\"slh\"!=a&&(d=\"&cshid=\"+window._cshid);c=c||\"/\"+(g||\"gen_204\")+\"?atyp=i&ct=\"+a+\"&cad=\"+b+e+\"&zx=\"+Date.now()+d;/^http:/i.test(c)&&\"https:\"==window.location.protocol&&(google.ml&&google.ml(Error(\"a\"),!1,{src:c,glmm:1}),c=\"\");return c};f=google.kEI;google.getEI=k;google.getLEI=l;google.ml=function(){return null};google.log=function(a,b,c,d,g){if(c=m(a,b,c,d,g)){a=new Image;var e=h.length;h[e]=a;a.onerror=a.onload=a.onabort=function(){delete h[e]};a.src=c}};google.logUrl=m;}).call(this);(function(){\\ngoogle.y={};google.sy=[];google.x=function(a,b){if(a)var c=a.id;else{do c=Math.random();while(google.y[c])}google.y[c]=[a,b];return!1};google.sx=function(a){google.sy.push(a)};google.lm=[];google.plm=function(a){google.lm.push.apply(google.lm,a)};google.lq=[];google.load=function(a,b,c){google.lq.push([[a],b,c])};google.loadAll=function(a,b){google.lq.push([a,b])};google.bx=!1;google.lx=function(){};}).call(this);google.f={};(function(){\\ndocument.documentElement.addEventListener(\"submit\",function(b){var a;if(a=b.target){var c=a.getAttribute(\"data-submitfalse\");a=\"1\"==c||\"q\"==c&&!a.elements.q.value?!0:!1}else a=!1;a&&(b.preventDefault(),b.stopPropagation())},!0);document.documentElement.addEventListener(\"click\",function(b){var a;a:{for(a=b.target;a&&a!=document.documentElement;a=a.parentElement)if(\"A\"==a.tagName){a=\"1\"==a.getAttribute(\"data-nohref\");break a}a=!1}a&&b.preventDefault()},!0);}).call(this);</script><style>#gbar,#guser{font-size:13px;padding-top:1px !important;}#gbar{height:22px}#guser{padding-bottom:7px !important;text-align:right}.gbh,.gbd{border-top:1px solid #c9d7f1;font-size:1px}.gbh{height:0;position:absolute;top:24px;width:100%}@media all{.gb1{height:22px;margin-right:.5em;vertical-align:top}#gbar{float:left}}a.gb1,a.gb4{text-decoration:underline !important}a.gb1,a.gb4{color:#00c !important}.gbi .gb4{color:#dd8e27 !important}.gbf .gb4{color:#900 !important}\\n</style><style>body,td,a,p,.h{font-family:&#44404;&#47548;,&#46027;&#50880;,arial,sans-serif}.ko{font-size:9pt}body{margin:0;overflow-y:scroll}#gog{padding:3px 8px 0}td{line-height:.8em}.gac_m td{line-height:17px}form{margin-bottom:20px}.h{color:#1558d6}em{font-weight:bold;font-style:normal}.lst{height:25px;width:496px}.gsfi,.lst{font:18px arial,sans-serif}.gsfs{font:17px arial,sans-serif}.ds{display:inline-box;display:inline-block;margin:3px 0 4px;margin-left:4px}input{font-family:inherit}body{background:#fff;color:#000}a{color:#4b11a8;text-decoration:none}a:hover,a:active{text-decoration:underline}.fl a{color:#1558d6}a:visited{color:#4b11a8}.sblc{padding-top:5px}.sblc a{display:block;margin:2px 0;margin-left:13px;font-size:11px}.lsbb{background:#f8f9fa;border:solid 1px;border-color:#dadce0 #70757a #70757a #dadce0;height:30px}.lsbb{display:block}#WqQANb a{display:inline-block;margin:0 12px}.lsb{background:url(/images/nav_logo229.png) 0 -261px repeat-x;border:none;color:#000;cursor:pointer;height:30px;margin:0;outline:0;font:15px arial,sans-serif;vertical-align:top}.lsb:active{background:#dadce0}.lst:focus{outline:none}.tiah{width:458px}</style><script nonce=\"eRPPk9EFgTDomxxxZOEA7Q==\"></script></head><body bgcolor=\"#fff\"><script nonce=\"eRPPk9EFgTDomxxxZOEA7Q==\">(function(){var src=\\'/images/nav_logo229.png\\';var iesg=false;document.body.onload = function(){window.n && window.n();if (document.images){new Image().src=src;}\\nif (!iesg){document.f&&document.f.q.focus();document.gbqf&&document.gbqf.q.focus();}\\n}\\n})();</script><div id=\"mngb\"><div id=gbar><nobr><b class=gb1>&#44160;&#49353;</b> <a class=gb1 href=\"https://www.google.co.kr/imghp?hl=ko&tab=wi\">&#51060;&#48120;&#51648;</a> <a class=gb1 href=\"https://maps.google.co.kr/maps?hl=ko&tab=wl\">&#51648;&#46020;</a> <a class=gb1 href=\"https://play.google.com/?hl=ko&tab=w8\">Play</a> <a class=gb1 href=\"https://www.youtube.com/?gl=KR&tab=w1\">YouTube</a> <a class=gb1 href=\"https://news.google.com/?tab=wn\">&#45684;&#49828;</a> <a class=gb1 href=\"https://mail.google.com/mail/?tab=wm\">Gmail</a> <a class=gb1 href=\"https://drive.google.com/?tab=wo\">&#46300;&#46972;&#51060;&#48652;</a> <a class=gb1 style=\"text-decoration:none\" href=\"https://www.google.co.kr/intl/ko/about/products?tab=wh\"><u>&#45908;&#48372;&#44592;</u> &raquo;</a></nobr></div><div id=guser width=100%><nobr><span id=gbn class=gbi></span><span id=gbf class=gbf></span><span id=gbe></span><a href=\"http://www.google.co.kr/history/optout?hl=ko\" class=gb4>&#50937; &#44592;&#47197;</a> | <a  href=\"/preferences?hl=ko\" class=gb4>&#49444;&#51221;</a> | <a target=_top id=gb_70 href=\"https://accounts.google.com/ServiceLogin?hl=ko&passive=true&continue=https://www.google.com/&ec=GAZAAQ\" class=gb4>&#47196;&#44536;&#51064;</a></nobr></div><div class=gbh style=left:0></div><div class=gbh style=right:0></div></div><center><br clear=\"all\" id=\"lgpd\"><div id=\"lga\"><img alt=\"Google\" height=\"92\" src=\"/images/branding/googlelogo/1x/googlelogo_white_background_color_272x92dp.png\" style=\"padding:28px 0 14px\" width=\"272\" id=\"hplogo\"><br><br></div><form action=\"/search\" name=\"f\"><table cellpadding=\"0\" cellspacing=\"0\"><tr valign=\"top\"><td width=\"25%\">&nbsp;</td><td align=\"center\" nowrap=\"\"><input name=\"ie\" value=\"ISO-8859-1\" type=\"hidden\"><input value=\"ko\" name=\"hl\" type=\"hidden\"><input name=\"source\" type=\"hidden\" value=\"hp\"><input name=\"biw\" type=\"hidden\"><input name=\"bih\" type=\"hidden\"><div class=\"ds\" style=\"height:32px;margin:4px 0\"><div style=\"position:relative;zoom:1\"><input class=\"lst tiah\" style=\"margin:0;padding:5px 8px 0 6px;vertical-align:top;color:#000;padding-right:38px\" autocomplete=\"off\" value=\"\" title=\"Google &#44160;&#49353;\" maxlength=\"2048\" name=\"q\" size=\"57\"><img src=\"/textinputassistant/tia.png\" style=\"position:absolute;cursor:pointer;right:5px;top:4px;z-index:300\" data-script-url=\"/textinputassistant/11/ko_tia.js\" id=\"tsuid1\" alt=\"\" height=\"23\" width=\"27\"><script nonce=\"eRPPk9EFgTDomxxxZOEA7Q==\">(function(){var id=\\'tsuid1\\';document.getElementById(id).onclick = function(){var s = document.createElement(\\'script\\');s.src = this.getAttribute(\\'data-script-url\\');(document.getElementById(\\'xjsc\\')||document.body).appendChild(s);};})();</script></div></div><br style=\"line-height:0\"><span class=\"ds\"><span class=\"lsbb\"><input class=\"lsb\" value=\"Google &#44160;&#49353;\" name=\"btnG\" type=\"submit\"></span></span><span class=\"ds\"><span class=\"lsbb\"><input class=\"lsb\" id=\"tsuid2\" value=\"I&#8217;m Feeling Lucky\" name=\"btnI\" type=\"submit\"><script nonce=\"eRPPk9EFgTDomxxxZOEA7Q==\">(function(){var id=\\'tsuid2\\';document.getElementById(id).onclick = function(){if (this.form.q.value){this.checked = 1;if (this.form.iflsig)this.form.iflsig.disabled = false;}\\nelse top.location=\\'/doodles/\\';};})();</script><input value=\"AINFCbYAAAAAYLvIHyeGhrYRZBFNzBYErROHWviIFXnL\" name=\"iflsig\" type=\"hidden\"></span></span></td><td class=\"fl sblc\" align=\"left\" nowrap=\"\" width=\"25%\"><a href=\"/advanced_search?hl=ko&amp;authuser=0\">&#44256;&#44553;&#44160;&#49353;</a></td></tr></table><input id=\"gbv\" name=\"gbv\" type=\"hidden\" value=\"1\"><script nonce=\"eRPPk9EFgTDomxxxZOEA7Q==\">(function(){\\nvar a,b=\"1\";if(document&&document.getElementById)if(\"undefined\"!=typeof XMLHttpRequest)b=\"2\";else if(\"undefined\"!=typeof ActiveXObject){var c,d,e=[\"MSXML2.XMLHTTP.6.0\",\"MSXML2.XMLHTTP.3.0\",\"MSXML2.XMLHTTP\",\"Microsoft.XMLHTTP\"];for(c=0;d=e[c++];)try{new ActiveXObject(d),b=\"2\"}catch(h){}}a=b;if(\"2\"==a&&-1==location.search.indexOf(\"&gbv=2\")){var f=google.gbvu,g=document.getElementById(\"gbv\");g&&(g.value=a);f&&window.setTimeout(function(){location.href=f},0)};}).call(this);</script></form><div id=\"gac_scont\"></div><div style=\"font-size:83%;min-height:3.5em\"><br></div><span id=\"footer\"><div style=\"font-size:10pt\"><div style=\"margin:19px auto;text-align:center\" id=\"WqQANb\"><a href=\"/intl/ko/ads/\">&#44305;&#44256; &#54532;&#47196;&#44536;&#47016;</a><a href=\"http://www.google.co.kr/intl/ko/services/\">&#48708;&#51592;&#45768;&#49828; &#49556;&#47336;&#49496;</a><a href=\"/intl/ko/about.html\">Google &#51221;&#48372;</a><a href=\"https://www.google.com/setprefdomain?prefdom=KR&amp;prev=https://www.google.co.kr/&amp;sig=K_oOo_Ikz22rR_Qq5GqrgN62lIM1c%3D\">Google.co.kr</a></div></div><p style=\"font-size:8pt;color:#70757a\">&copy; 2021 - <a href=\"/intl/ko/policies/privacy/\">&#44060;&#51064;&#51221;&#48372;&#52376;&#47532;&#48169;&#52840;</a> - <a href=\"/intl/ko/policies/terms/\">&#50557;&#44288;</a></p></span></center><script nonce=\"eRPPk9EFgTDomxxxZOEA7Q==\">(function(){window.google.cdo={height:0,width:0};(function(){\\nvar a=window.innerWidth,b=window.innerHeight;if(!a||!b){var c=window.document,d=\"CSS1Compat\"==c.compatMode?c.documentElement:c.body;a=d.clientWidth;b=d.clientHeight}a&&b&&(a!=google.cdo.width||b!=google.cdo.height)&&google.log(\"\",\"\",\"/client_204?&atyp=i&biw=\"+a+\"&bih=\"+b+\"&ei=\"+google.kEI);}).call(this);})();</script> <script nonce=\"eRPPk9EFgTDomxxxZOEA7Q==\">(function(){google.xjs={ck:\\'\\',cs:\\'\\',excm:[],pml:false};})();</script>  <script nonce=\"eRPPk9EFgTDomxxxZOEA7Q==\">(function(){var u=\\'/xjs/_/js/k\\\\x3dxjs.hp.en.4CQ86GKG3Vg.O/m\\\\x3dsb_he,d/am\\\\x3dAHgCLA/d\\\\x3d1/ed\\\\x3d1/rs\\\\x3dACT90oHcR-pf_5WvALLZSKtJO-Jxfnj2Mg\\';\\nvar e=this||self,f=function(a){return a};var g;var l=function(a,b){this.g=b===h?a:\"\"};l.prototype.toString=function(){return this.g+\"\"};var h={};function m(){var a=u;google.lx=function(){n(a);google.lx=function(){}};google.bx||google.lx()}\\nfunction n(a){google.timers&&google.timers.load&&google.tick&&google.tick(\"load\",\"xjsls\");var b=document;var c=\"SCRIPT\";\"application/xhtml+xml\"===b.contentType&&(c=c.toLowerCase());c=b.createElement(c);if(void 0===g){b=null;var k=e.trustedTypes;if(k&&k.createPolicy){try{b=k.createPolicy(\"goog#html\",{createHTML:f,createScript:f,createScriptURL:f})}catch(p){e.console&&e.console.error(p.message)}g=b}else g=b}a=(b=g)?b.createScriptURL(a):a;a=new l(a,h);c.src=a instanceof l&&a.constructor===l?a.g:\"type_error:TrustedResourceUrl\";var d;a=(c.ownerDocument&&c.ownerDocument.defaultView||window).document;(d=(a=null===(d=a.querySelector)||void 0===d?void 0:d.call(a,\"script[nonce]\"))?a.nonce||a.getAttribute(\"nonce\")||\"\":\"\")&&c.setAttribute(\"nonce\",d);document.body.appendChild(c);google.psa=!0};setTimeout(function(){m()},0);})();(function(){window.google.xjsu=\\'/xjs/_/js/k\\\\x3dxjs.hp.en.4CQ86GKG3Vg.O/m\\\\x3dsb_he,d/am\\\\x3dAHgCLA/d\\\\x3d1/ed\\\\x3d1/rs\\\\x3dACT90oHcR-pf_5WvALLZSKtJO-Jxfnj2Mg\\';})();function _DumpException(e){throw e;}\\nfunction _F_installCss(c){}\\n(function(){google.jl={blt:\\'none\\',dw:false,emtn:0,ine:false,lls:\\'default\\',pdt:0,snet:true,ubm:false,uwp:true};})();(function(){var pmc=\\'{\\\\x22d\\\\x22:{},\\\\x22sb_he\\\\x22:{\\\\x22agen\\\\x22:true,\\\\x22cgen\\\\x22:true,\\\\x22client\\\\x22:\\\\x22heirloom-hp\\\\x22,\\\\x22dh\\\\x22:true,\\\\x22dhqt\\\\x22:true,\\\\x22ds\\\\x22:\\\\x22\\\\x22,\\\\x22ffql\\\\x22:\\\\x22ko\\\\x22,\\\\x22fl\\\\x22:true,\\\\x22host\\\\x22:\\\\x22google.com\\\\x22,\\\\x22isbh\\\\x22:28,\\\\x22jsonp\\\\x22:true,\\\\x22msgs\\\\x22:{\\\\x22cibl\\\\x22:\\\\x22&#44160;&#49353;&#50612; &#51648;&#50864;&#44592;\\\\x22,\\\\x22dym\\\\x22:\\\\x22&#51060;&#44163;&#51012; &#52286;&#51004;&#49512;&#45208;&#50836;?\\\\x22,\\\\x22lcky\\\\x22:\\\\x22I&#8217;m Feeling Lucky\\\\x22,\\\\x22lml\\\\x22:\\\\x22&#51088;&#49464;&#55176; &#50508;&#50500;&#48372;&#44592;\\\\x22,\\\\x22oskt\\\\x22:\\\\x22&#51077;&#47141; &#46020;&#44396;\\\\x22,\\\\x22psrc\\\\x22:\\\\x22&#44160;&#49353;&#50612;&#44032; \\\\\\\\u003Ca href\\\\x3d\\\\\\\\\\\\x22/history\\\\\\\\\\\\x22\\\\\\\\u003E&#50937; &#44592;&#47197;\\\\\\\\u003C/a\\\\\\\\u003E&#50640;&#49436; &#49325;&#51228;&#46104;&#50632;&#49845;&#45768;&#45796;.\\\\x22,\\\\x22psrl\\\\x22:\\\\x22&#49325;&#51228;\\\\x22,\\\\x22sbit\\\\x22:\\\\x22&#51060;&#48120;&#51648;&#47196; &#44160;&#49353;\\\\x22,\\\\x22srch\\\\x22:\\\\x22Google &#44160;&#49353;\\\\x22},\\\\x22nrft\\\\x22:false,\\\\x22ovr\\\\x22:{},\\\\x22pq\\\\x22:\\\\x22\\\\x22,\\\\x22refpd\\\\x22:true,\\\\x22refspre\\\\x22:true,\\\\x22rfs\\\\x22:[],\\\\x22sbas\\\\x22:\\\\x220 3px 8px 0 rgba(0,0,0,0.2),0 0 0 1px rgba(0,0,0,0.08)\\\\x22,\\\\x22sbpl\\\\x22:16,\\\\x22sbpr\\\\x22:16,\\\\x22scd\\\\x22:10,\\\\x22stok\\\\x22:\\\\x22nRCFvPYVSjhksw5FKki-pFWzu9U\\\\x22,\\\\x22uhde\\\\x22:false}}\\';google.pmc=JSON.parse(pmc);})();</script>        </body></html>'"
      ]
     },
     "execution_count": 4,
     "metadata": {},
     "output_type": "execute_result"
    }
   ],
   "source": [
    "page.text # 요청에 대해서 html 코드를 받은 것임"
   ]
  },
  {
   "cell_type": "markdown",
   "id": "b7e2434a",
   "metadata": {},
   "source": [
    "# 1. 웹 페이지 스타일링 원리"
   ]
  },
  {
   "cell_type": "markdown",
   "id": "e9654d89",
   "metadata": {},
   "source": [
    "### 데이터 추출의 원리"
   ]
  },
  {
   "cell_type": "markdown",
   "id": "41bfb73c",
   "metadata": {},
   "source": [
    "웹사이트에서 HTML 코드를 받아오는 법을 배웠습니다. 이제 HTML 코드에서 데이터를 추출해 봅시다.\n",
    "\n",
    "사실 HTML 코드에서 데이터를 골라내는 작업은 웹 페이지를 꾸미는 스타일링 원리와 밀접한 연관이 있습니다. 특정 태그를 선택한다는 공통점 때문입니다."
   ]
  },
  {
   "cell_type": "markdown",
   "id": "91d5ec0c",
   "metadata": {},
   "source": [
    "CSS를 사용하면 HTML 태그에 색, 폰트, 크기, 여백 등을 설정할 수 있습니다.<br>\n",
    "아마 여러분이 평소 사용하는 모든 웹사이트가 CSS를 사용할 것입니다."
   ]
  },
  {
   "cell_type": "markdown",
   "id": "84ce5dc6",
   "metadata": {},
   "source": [
    "css코드\n",
    "\n",
    "li{<br>\n",
    "  color: blue; /n <br>\n",
    "  font-size: 20px;<br>\n",
    "}<br>\n",
    "\n",
    "1. HTML 태그를 선택하는 코드\n",
    "li{} : 모든<li>태그를 대상으로 스타일을 적용하라는 의미<br>\n",
    "\n",
    "2. 스타일을 지정하는 코드 1의 {}안에 들어감    <br>\n",
    "color: blue;<br>\n",
    "font-size: 20px;<br>"
   ]
  },
  {
   "cell_type": "markdown",
   "id": "bec68c24",
   "metadata": {},
   "source": [
    "# CSS 선택자"
   ]
  },
  {
   "cell_type": "markdown",
   "id": "ed191146",
   "metadata": {},
   "source": [
    "### 첫번째 선택자 : 태그이름\n",
    "li{} p{} 같이 괄호 앞에 붙이는 이름이 태그이름"
   ]
  },
  {
   "cell_type": "markdown",
   "id": "f739ca72",
   "metadata": {},
   "source": [
    "### 두번째 선택자 : 아이디\n",
    "모든 태그가 아닌 단 하나의 태그에만 스타일을 입히고 싶은 경우\n",
    "\n",
    "id라는 속성을 사용하면된다\n",
    "\n",
    "밑과 같이 HTML 태그에 id를 지정할 수 있음\n",
    "<li id=\"coffee\">커피</li>\n",
    "<li id=\"green-tea\">녹차</li>\n",
    "<li id=\"milk\">우유</li>\n",
    "\n",
    "\n",
    "아이디를 CSS 선택자로 활용하면 그 아이디를 가진 태그에만 스타일이 입혀진다.\n",
    "\n",
    "아이디 상징 기호는 #\n",
    "\n",
    "#green-tea { <br>\n",
    "  color: blue;<br>\n",
    "  font-size: 20px;<br>\n",
    "}"
   ]
  },
  {
   "cell_type": "markdown",
   "id": "5a58bcbc",
   "metadata": {},
   "source": [
    "### 세번째 선택자 : 클래스\n",
    "\n",
    "아이디는 딱 하나의 HTML 태그만 선택할 수 있었다\n",
    "\n",
    "그럼 여러 태그에 동시에 스타일을 입히고 싶다면?\n",
    "\n",
    "아이디를 여러번 사용하는 것은 잘못된 코드\n",
    "<li id=\"favorite\">커피</li>\n",
    "<li>녹차</li>\n",
    "<li id=\"favorite\">우유</li>\n",
    "\n",
    "클래스라는 속성을 사용해 여러 태그에 공통적으로 적용\n",
    "<li class=\"favorite\">커피</li>\n",
    "<li>녹차</li>\n",
    "<li class=\"favorite\">우유</li>\n",
    "\n",
    "클래스를 상징하는 기호는 .(마침표)\n",
    ".favorite {\n",
    "  color: blue;\n",
    "  font-size: 20px;\n",
    "}\n",
    "하나의 태그는 아이디는 한개 클래스는 여러개 가질 수 있다\n",
    "\n",
    "클래스 이름 사이에 공백을 추가하면 된다.\n",
    "\n",
    "<p class=\"favorite preview\">이것은 첫 번째 문단입니다.</p>"
   ]
  },
  {
   "cell_type": "markdown",
   "id": "f8f35a82",
   "metadata": {},
   "source": [
    "### 네번째 선택자 : 속성\n",
    "\n",
    "아이디와 클래스도 속성 중 하나이다<br>\n",
    "아이디 클래스 외의 속성도 CSS 선택자로 사용할 수 있다<br>\n",
    "ex) alt 속성 <br>\n",
    "alt는 이미지가 로딩되지 않을 경우를 대비해서 이 이미지가 어떤 이미진지 텍스트로 알려주는 역할<br>\n",
    "<img src='https://i.imgur.com/bY0l0PC.jpg' alt=\"coffee\"/><br>\n",
    "\n",
    "속성과 속성값을 CSS 선택자로 활용할 수 있다<br>\n",
    "[alt=\"green-tea\"] {<br>\n",
    "  width: 300px;<br>\n",
    "}<br>"
   ]
  },
  {
   "cell_type": "markdown",
   "id": "bd8c249a",
   "metadata": {},
   "source": [
    "# 파싱(Parsing)"
   ]
  },
  {
   "cell_type": "markdown",
   "id": "92a029d0",
   "metadata": {},
   "source": [
    "파싱은 문자의 구조를 분석해서 원하는 정보를 얻어내는 것 <br>\n",
    "복잡한 HTML 코드에서 정보를 뽑아내는 것도 파싱의 일종<br>"
   ]
  },
  {
   "cell_type": "markdown",
   "id": "de4049cf",
   "metadata": {},
   "source": [
    "### Beautiful Soup\n",
    "이 툴로 HTML 파싱한다\n",
    "\n",
    "예시 <br>\n",
    "파싱할 HTML 코드를 변수 html_code에 넣어준다 <br>\n",
    "파이썬에서 여러 줄의 텍스트를 \"\"\"와 \"\"\"사이에 두면 하나의 문자열로 인식<br>\n",
    "\n",
    "html_code = \"\"\"<!DOCTYPE html>  \n",
    "<html> \n",
    "<head>  \n",
    "    <title>Sample Website</title>\n",
    "</head>\n",
    "<body>\n",
    "<h2>HTML 연습!</h2>\n",
    "\n",
    "<p>이것은 첫 번째 문단입니다.</p>\n",
    "<p>이것은 두 번째 문단입니다!</p>\n",
    "\n",
    "<ul>\n",
    "    <li>커피</li>\n",
    "    <li>녹차</li>\n",
    "    <li>우유</li>\n",
    "</ul>\n",
    "\n",
    "<img src='https://i.imgur.com/bY0l0PC.jpg' alt=\"coffee\"/>\n",
    "<img src='https://i.imgur.com/fvJLWdV.jpg' alt=\"green-tea\"/>\n",
    "<img src='https://i.imgur.com/rNOIbNt.jpg' alt=\"milk\"/>\n",
    "\n",
    "</body>\n",
    "</html>\"\"\""
   ]
  },
  {
   "cell_type": "markdown",
   "id": "64ec3f3e",
   "metadata": {},
   "source": [
    "\"1. BeautifulSoup 타입 만들기<br>\n",
    "HTML 코드를 파싱하려면 먼저 HTML 코드를 BeautifulSoup 타입으로 바꿔야 한다.  <br>\n",
    "bs4 라이브러리의 BeautifulSoup를 불러온다 <br>"
   ]
  },
  {
   "cell_type": "code",
   "execution_count": 8,
   "id": "23a4a6c5",
   "metadata": {},
   "outputs": [],
   "source": [
    "from bs4 import BeautifulSoup"
   ]
  },
  {
   "cell_type": "code",
   "execution_count": 18,
   "id": "7bcafbf1",
   "metadata": {},
   "outputs": [],
   "source": [
    "html_code = \"\"\"<!DOCTYPE html>  \n",
    "<html> \n",
    "<head>  \n",
    "    <title>Sample Website</title>\n",
    "</head>\n",
    "<body>\n",
    "<h2>HTML 연습!</h2>\n",
    "\n",
    "<p>이것은 첫 번째 문단입니다.</p>\n",
    "<p>이것은 두 번째 문단입니다!</p>\n",
    "\n",
    "<ul>\n",
    "    <li>커피</li>\n",
    "    <li>녹차</li>\n",
    "    <li>우유</li>\n",
    "</ul>\n",
    "\n",
    "<img src='https://i.imgur.com/bY0l0PC.jpg' alt=\"coffee\"/>\n",
    "<img src='https://i.imgur.com/fvJLWdV.jpg' alt=\"green-tea\"/>\n",
    "<img src='https://i.imgur.com/rNOIbNt.jpg' alt=\"milk\"/>\n",
    "\n",
    "</body>\n",
    "</html>\"\"\""
   ]
  },
  {
   "cell_type": "markdown",
   "id": "3a050a1d",
   "metadata": {},
   "source": [
    "불러온 BeautifulSoup에 HTML 코드를 넘겨주면, HTML 코드가 'BeautifulSoup 타입'으로 바뀐다.  <br>\n",
    "HTML을 파싱한다는 의미로 'html.parser'을 함께 넘겨준다."
   ]
  },
  {
   "cell_type": "code",
   "execution_count": 9,
   "id": "5e61ebd8",
   "metadata": {},
   "outputs": [
    {
     "name": "stdout",
     "output_type": "stream",
     "text": [
      "<class 'bs4.BeautifulSoup'>\n"
     ]
    }
   ],
   "source": [
    "# BeautifulSoup 타입으로 변환\n",
    "soup = BeautifulSoup(html_code, 'html.parser')\n",
    "\n",
    "# type 출력\n",
    "print(type(soup))"
   ]
  },
  {
   "cell_type": "markdown",
   "id": "edd7462b",
   "metadata": {},
   "source": [
    "\"2. 특정 태그 선택하기<br>\n",
    "BeautifulSoup 타입에는 .select() 메소드를 쓸 수 있습니다.  <br>\n",
    "'선택한다'는 의미인데, 괄호 안에 CSS 선택자를 넣으면 특정 HTML 태그만 선택할 수 있습니다.<br>\n",
    "\n",
    "예를 들어, 모든 <li> 태그를 가져오고 싶으면 CSS 선택자 'li'를 넘겨주면 됩니다."
   ]
  },
  {
   "cell_type": "code",
   "execution_count": 11,
   "id": "b2cc6e6c",
   "metadata": {},
   "outputs": [
    {
     "name": "stdout",
     "output_type": "stream",
     "text": [
      "[<li>커피</li>, <li>녹차</li>, <li>우유</li>]\n"
     ]
    }
   ],
   "source": [
    "# 모든 <li> 태그 선택하기\n",
    "li_tags = soup.select('li')\n",
    "\n",
    "# 결과 출력\n",
    "print(li_tags)\n",
    "\n",
    "# <li>태그만 모아서 리스트로 출력된다"
   ]
  },
  {
   "cell_type": "code",
   "execution_count": 12,
   "id": "6f38372c",
   "metadata": {},
   "outputs": [
    {
     "name": "stdout",
     "output_type": "stream",
     "text": [
      "<li>커피</li>\n"
     ]
    }
   ],
   "source": [
    "# 모든 <li> 태그 선택하기\n",
    "li_tags = soup.select('li')\n",
    "\n",
    "# 첫 번째 요소 출력하기\n",
    "print(li_tags[0])"
   ]
  },
  {
   "cell_type": "markdown",
   "id": "decea7e7",
   "metadata": {},
   "source": [
    "\"3. 태그에서 문자열 추출하기<br>\n",
    ".select()로 가져온 태그는 그냥 텍스트가 아니다<br>\n",
    "타입을 확인해보면.."
   ]
  },
  {
   "cell_type": "code",
   "execution_count": 14,
   "id": "4eab2bec",
   "metadata": {},
   "outputs": [
    {
     "name": "stdout",
     "output_type": "stream",
     "text": [
      "<class 'bs4.element.Tag'>\n"
     ]
    }
   ],
   "source": [
    "# 모든 <li> 태그 선택하기\n",
    "li_tags = soup.select('li')\n",
    "\n",
    "# 첫 번째 요소 type 출력하기\n",
    "print(type(li_tags[0]))\n",
    "\n",
    "# 이걸 BeautifulSoup 태그라고 부르자"
   ]
  },
  {
   "cell_type": "code",
   "execution_count": 16,
   "id": "63e8ef4d",
   "metadata": {},
   "outputs": [
    {
     "name": "stdout",
     "output_type": "stream",
     "text": [
      "<li>커피</li>\n",
      "커피\n"
     ]
    }
   ],
   "source": [
    "# BeautifulSoup 태그 뒤에 .text를 불티면 텍스트만 꺼낼 수 있다.\n",
    "\n",
    "# 모든 <li> 태그 선택하기\n",
    "li_tags = soup.select('li')\n",
    "\n",
    "# 첫 번째 <li> 태그 출력하기\n",
    "print(li_tags[0])\n",
    "\n",
    "# 첫 번째 <li> 태그의 텍스트 출력하기\n",
    "print(li_tags[0].text)\n",
    "\n",
    "# 순수한 문자열 추출 성공"
   ]
  },
  {
   "cell_type": "markdown",
   "id": "417308db",
   "metadata": {},
   "source": [
    "반복문을 사용해서 모든 문자열을 추출해 리스트에 담는다."
   ]
  },
  {
   "cell_type": "code",
   "execution_count": 17,
   "id": "5098f6d2",
   "metadata": {},
   "outputs": [
    {
     "name": "stdout",
     "output_type": "stream",
     "text": [
      "['커피', '녹차', '우유']\n"
     ]
    }
   ],
   "source": [
    "# 모든 <li> 태그 선택하기\n",
    "li_tags = soup.select('li')\n",
    "\n",
    "# 빈 리스트 만들기\n",
    "beverage_names = []\n",
    "\n",
    "# 텍스트 추출해서 리스트에 담기\n",
    "for li in li_tags:\n",
    "    beverage_names.append(li.text)\n",
    "\n",
    "# 결과 출력\n",
    "print(beverage_names)"
   ]
  },
  {
   "cell_type": "markdown",
   "id": "cde02bf0",
   "metadata": {},
   "source": [
    "### 위에 쓰인 것들을 합치면 전체코드가 된다."
   ]
  },
  {
   "cell_type": "markdown",
   "id": "acb6548d",
   "metadata": {},
   "source": [
    "### 태그의 속성값을 추출하기\n",
    "<img> 태그의 src 속성에는 일반적으로 이미지 주소가 저장되어 있습니다.  <br>\n",
    "이미지 주소를 받아와 볼건데요.  <br>\n",
    "<img> 태그를 먼저 가져와야겠죠? <br>"
   ]
  },
  {
   "cell_type": "code",
   "execution_count": 19,
   "id": "ef6dd4ce",
   "metadata": {},
   "outputs": [
    {
     "name": "stdout",
     "output_type": "stream",
     "text": [
      "[<img alt=\"coffee\" src=\"https://i.imgur.com/bY0l0PC.jpg\"/>, <img alt=\"green-tea\" src=\"https://i.imgur.com/fvJLWdV.jpg\"/>, <img alt=\"milk\" src=\"https://i.imgur.com/rNOIbNt.jpg\"/>]\n"
     ]
    }
   ],
   "source": [
    "from bs4 import BeautifulSoup\n",
    "\n",
    "html_code = \"\"\"<!DOCTYPE html>\n",
    "<html>\n",
    "<head>\n",
    "    <title>Sample Website</title>\n",
    "</head>\n",
    "<body>\n",
    "<h2>HTML 연습!</h2>\n",
    "\n",
    "<p>이것은 첫 번째 문단입니다.</p>\n",
    "<p>이것은 두 번째 문단입니다!</p>\n",
    "\n",
    "<ul>\n",
    "    <li>커피</li>\n",
    "    <li>녹차</li>\n",
    "    <li>우유</li>\n",
    "</ul>\n",
    "\n",
    "<img src='https://i.imgur.com/bY0l0PC.jpg' alt=\"coffee\"/>\n",
    "<img src='https://i.imgur.com/fvJLWdV.jpg' alt=\"green-tea\"/>\n",
    "<img src='https://i.imgur.com/rNOIbNt.jpg' alt=\"milk\"/>\n",
    "\n",
    "</body>\n",
    "</html>\"\"\"\n",
    "\n",
    "# BeautifulSoup 타입으로 변환\n",
    "soup = BeautifulSoup(html_code, 'html.parser')\n",
    "\n",
    "# 모든 <img> 태그 선택하기\n",
    "img_tags = soup.select('img')\n",
    "\n",
    "# 결과 출력\n",
    "print(img_tags)"
   ]
  },
  {
   "cell_type": "code",
   "execution_count": 20,
   "id": "50c3d9bf",
   "metadata": {},
   "outputs": [
    {
     "name": "stdout",
     "output_type": "stream",
     "text": [
      "<img alt=\"coffee\" src=\"https://i.imgur.com/bY0l0PC.jpg\"/>\n"
     ]
    }
   ],
   "source": [
    "# 모든 <img> 태그 선택하기\n",
    "img_tags = soup.select('img')\n",
    "\n",
    "# 첫 번째 요소 출력하기\n",
    "print(img_tags[0])"
   ]
  },
  {
   "cell_type": "markdown",
   "id": "120adbaa",
   "metadata": {},
   "source": [
    "태그에 .text를 붙이면 텍스트가 추출된 것처럼, 태그에 [\"속성 이름\"]을 붙여주면 해당 속성의 값을 가져올 수 있습니다.  <br>\n",
    "이미지 주소는 src라는 속성에 저장되어 있으니, [\"src\"]라고 붙이면 되겠네요."
   ]
  },
  {
   "cell_type": "code",
   "execution_count": 21,
   "id": "8d258dc1",
   "metadata": {},
   "outputs": [
    {
     "name": "stdout",
     "output_type": "stream",
     "text": [
      "https://i.imgur.com/bY0l0PC.jpg\n"
     ]
    }
   ],
   "source": [
    "# 모든 <img> 태그 선택하기\n",
    "img_tags = soup.select('img')\n",
    "\n",
    "# 첫 번째 요소의 \"src\" 속성 값 가져오기\n",
    "print(img_tags[0][\"src\"])"
   ]
  },
  {
   "cell_type": "code",
   "execution_count": 23,
   "id": "882875f8",
   "metadata": {},
   "outputs": [
    {
     "name": "stdout",
     "output_type": "stream",
     "text": [
      "['https://i.imgur.com/bY0l0PC.jpg', 'https://i.imgur.com/fvJLWdV.jpg', 'https://i.imgur.com/rNOIbNt.jpg']\n"
     ]
    }
   ],
   "source": [
    "# for 반복문을 활용해 모든 이미지 주소를 한 번에 가져온다\n",
    "\n",
    "# 모든 <img> 태그 선택하기\n",
    "img_tags = soup.select('img')\n",
    "\n",
    "# 빈 리스트 만들기\n",
    "img_srcs = []\n",
    "\n",
    "# 이미지 주소 추출해서 리스트에 담기\n",
    "for img in img_tags:\n",
    "    img_srcs.append(img[\"src\"])\n",
    "\n",
    "# 결과 출력\n",
    "print(img_srcs)"
   ]
  },
  {
   "cell_type": "code",
   "execution_count": null,
   "id": "0cad45a5",
   "metadata": {},
   "outputs": [],
   "source": []
  }
 ],
 "metadata": {
  "kernelspec": {
   "display_name": "Python 3",
   "language": "python",
   "name": "python3"
  },
  "language_info": {
   "codemirror_mode": {
    "name": "ipython",
    "version": 3
   },
   "file_extension": ".py",
   "mimetype": "text/x-python",
   "name": "python",
   "nbconvert_exporter": "python",
   "pygments_lexer": "ipython3",
   "version": "3.8.8"
  }
 },
 "nbformat": 4,
 "nbformat_minor": 5
}
